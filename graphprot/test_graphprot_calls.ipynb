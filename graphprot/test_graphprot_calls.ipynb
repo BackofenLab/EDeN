{
 "cells": [
  {
   "cell_type": "code",
   "execution_count": 34,
   "metadata": {
    "collapsed": false
   },
   "outputs": [
    {
     "name": "stderr",
     "output_type": "stream",
     "text": [
      "bash: line 5: graphprot/example_seqs//dummy25.positives.fa: No such file or directory\n",
      "head: write error: Broken pipe\n",
      "head: write error\n",
      "bash: line 9: graphprot/example_seqs/dummy25.negatives.fa: No such file or directory\n"
     ]
    }
   ],
   "source": [
    "%%bash\n",
    "\n",
    "# prepare example sequences, using 25 positives and 25 negatives\n",
    "head -n 50 \\\n",
    "/home/maticzkd/projects/GraphProt/scratch/150526_prepare_gp_update_train_seqs/PARCLIP_QKI.ls.positives.fa \\\n",
    "| head -n 50 > graphprot/example_seqs//dummy25.positives.fa\n",
    "\n",
    "head -n 50 \\\n",
    "/home/maticzkd/projects/GraphProt/scratch/150526_prepare_gp_update_train_seqs/PARCLIP_QKI.ls.negatives.fa \\\n",
    "| head -n 50 > graphprot/example_seqs/dummy25.negatives.fa"
   ]
  },
  {
   "cell_type": "code",
   "execution_count": 30,
   "metadata": {
    "collapsed": false
   },
   "outputs": [
    {
     "name": "stdout",
     "output_type": "stream",
     "text": [
      "Process is terminated.\n"
     ]
    }
   ],
   "source": [
    "%%bash\n",
    "\n",
    "# minimal call graphprot fit\n",
    "time ./graphprot_seqmodel -v fit \\\n",
    "-i \n",
    "\n",
    "#-i /home/maticzkd/projects/GraphProt/scratch/150526_prepare_gp_update_train_seqs/PARCLIP_QKI.ls.positives.fa \\\n",
    "#-u /home/maticzkd/projects/GraphProt/scratch/150526_prepare_gp_update_train_seqs/PARCLIP_QKI.ls.negatives.fa\n"
   ]
  },
  {
   "cell_type": "code",
   "execution_count": 31,
   "metadata": {
    "collapsed": false
   },
   "outputs": [
    {
     "name": "stdout",
     "output_type": "stream",
     "text": [
      "Program run failed on Friday, 29. May 2015 01:55PM\n",
      "Traceback (most recent call last):\n",
      "  File \"/home/maticzkd/co/EDeN-2.0/eden/model_base.py\", line 484, in main_script\n",
      "    main(model_initializer, args)\n",
      "  File \"/home/maticzkd/co/EDeN-2.0/eden/model_base.py\", line 263, in main\n",
      "    main_estimate(model_initializer, args)\n",
      "  File \"/home/maticzkd/co/EDeN-2.0/eden/model_base.py\", line 199, in main_estimate\n",
      "    logger.info(model.get_parameters())\n",
      "NameError: global name 'logger' is not defined\n",
      "Elapsed time: 0.1 sec\n"
     ]
    },
    {
     "name": "stderr",
     "output_type": "stream",
     "text": [
      "\n",
      "real\t0m7.023s\n",
      "user\t0m0.485s\n",
      "sys\t0m0.228s\n"
     ]
    }
   ],
   "source": [
    "%%bash\n",
    "\n",
    "# minimal call graphprot estimate\n",
    "time ./graphprot_seqmodel -v estimate \\\n",
    "-i /home/maticzkd/projects/GraphProt/scratch/150526_prepare_gp_update_train_seqs/PARCLIP_QKI.ls.positives.fa \\\n",
    "-u /home/maticzkd/projects/GraphProt/scratch/150526_prepare_gp_update_train_seqs/PARCLIP_QKI.ls.negatives.fa \\\n",
    "-m out/model"
   ]
  },
  {
   "cell_type": "code",
   "execution_count": null,
   "metadata": {
    "collapsed": true
   },
   "outputs": [],
   "source": []
  }
 ],
 "metadata": {
  "kernelspec": {
   "display_name": "Python 2",
   "language": "python",
   "name": "python2"
  },
  "language_info": {
   "codemirror_mode": {
    "name": "ipython",
    "version": 2
   },
   "file_extension": ".py",
   "mimetype": "text/x-python",
   "name": "python",
   "nbconvert_exporter": "python",
   "pygments_lexer": "ipython2",
   "version": "2.7.5"
  }
 },
 "nbformat": 4,
 "nbformat_minor": 0
}
