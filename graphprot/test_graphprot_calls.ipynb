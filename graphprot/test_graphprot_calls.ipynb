{
 "cells": [
  {
   "cell_type": "code",
   "execution_count": 12,
   "metadata": {
    "collapsed": false
   },
   "outputs": [
    {
     "name": "stderr",
     "output_type": "stream",
     "text": [
      "No handlers could be found for logger \"eden.model\"\n"
     ]
    }
   ],
   "source": [
    "%%bash\n",
    "\n",
    "# minimal call graphprot fit\n",
    "./graphprot_seqmodel fit \\\n",
    "-i /home/maticzkd/projects/GraphProt/scratch/150526_prepare_gp_update_train_seqs/PARCLIP_QKI.ls.positives.fa \\\n",
    "-u /home/maticzkd/projects/GraphProt/scratch/150526_prepare_gp_update_train_seqs/PARCLIP_QKI.ls.negatives.fa"
   ]
  },
  {
   "cell_type": "code",
   "execution_count": 13,
   "metadata": {
    "collapsed": false
   },
   "outputs": [
    {
     "name": "stdout",
     "output_type": "stream",
     "text": [
      "Program run failed on Thursday, 28. May 2015 02:24PM\n",
      "Traceback (most recent call last):\n",
      "  File \"/home/maticzkd/co/EDeN-2.0/eden/model_base.py\", line 444, in main_script\n",
      "    main(model_initializer, args)\n",
      "  File \"/home/maticzkd/co/EDeN-2.0/eden/model_base.py\", line 223, in main\n",
      "    main_estimate(model_initializer, args)\n",
      "  File \"/home/maticzkd/co/EDeN-2.0/eden/model_base.py\", line 159, in main_estimate\n",
      "    logger.info(model.get_parameters())\n",
      "NameError: global name 'logger' is not defined\n"
     ]
    }
   ],
   "source": [
    "%%bash\n",
    "\n",
    "# minimal call graphprot estimate\n",
    "./graphprot_seqmodel estimate \\\n",
    "-i /home/maticzkd/projects/GraphProt/scratch/150526_prepare_gp_update_train_seqs/PARCLIP_QKI.ls.positives.fa \\\n",
    "-u /home/maticzkd/projects/GraphProt/scratch/150526_prepare_gp_update_train_seqs/PARCLIP_QKI.ls.negatives.fa \\\n",
    "-m out/model"
   ]
  }
 ],
 "metadata": {
  "kernelspec": {
   "display_name": "Python 2",
   "language": "python",
   "name": "python2"
  },
  "language_info": {
   "codemirror_mode": {
    "name": "ipython",
    "version": 2
   },
   "file_extension": ".py",
   "mimetype": "text/x-python",
   "name": "python",
   "nbconvert_exporter": "python",
   "pygments_lexer": "ipython2",
   "version": "2.7.5"
  }
 },
 "nbformat": 4,
 "nbformat_minor": 0
}
