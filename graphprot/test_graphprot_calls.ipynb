{
 "cells": [
  {
   "cell_type": "code",
   "execution_count": 4,
   "metadata": {
    "collapsed": false
   },
   "outputs": [
    {
     "name": "stdout",
     "output_type": "stream",
     "text": [
      "Program run failed on Thursday, 28. May 2015 02:06PM\n",
      "Traceback (most recent call last):\n",
      "  File \"/home/maticzkd/co/EDeN-2.0/eden/model_base.py\", line 444, in main_script\n",
      "    main(model_initializer, args)\n",
      "  File \"/home/maticzkd/co/EDeN-2.0/eden/model_base.py\", line 221, in main\n",
      "    main_fit(model_initializer, args)\n",
      "  File \"/home/maticzkd/co/EDeN-2.0/eden/model_base.py\", line 107, in main_fit\n",
      "    pos_train_iterator = model_initializer.load_positive_data(args)\n",
      "  File \"./graphprot_seqmodel\", line 35, in load_positive_data\n",
      "    return self.load_data(args)\n",
      "  File \"./graphprot_seqmodel\", line 31, in load_data\n",
      "    seqs = fasta_to_sequence(args.input_file)\n",
      "AttributeError: 'Namespace' object has no attribute 'input_file'\n"
     ]
    }
   ],
   "source": [
    "%%bash\n",
    "\n",
    "# call graphprot\n",
    "./graphprot_seqmodel fit \\\n",
    "-i /home/maticzkd/projects/GraphProt/scratch/150526_prepare_gp_update_train_seqs/PARCLIP_QKI.ls.positives.fa \\\n",
    "-u /home/maticzkd/projects/GraphProt/scratch/150526_prepare_gp_update_train_seqs/PARCLIP_QKI.ls.negatives.fa"
   ]
  }
 ],
 "metadata": {
  "kernelspec": {
   "display_name": "Python 2",
   "language": "python",
   "name": "python2"
  },
  "language_info": {
   "codemirror_mode": {
    "name": "ipython",
    "version": 2
   },
   "file_extension": ".py",
   "mimetype": "text/x-python",
   "name": "python",
   "nbconvert_exporter": "python",
   "pygments_lexer": "ipython2",
   "version": "2.7.5"
  }
 },
 "nbformat": 4,
 "nbformat_minor": 0
}
