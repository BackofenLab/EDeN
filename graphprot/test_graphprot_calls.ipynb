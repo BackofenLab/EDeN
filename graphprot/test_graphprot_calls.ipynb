{
 "cells": [
  {
   "cell_type": "code",
   "execution_count": 34,
   "metadata": {
    "collapsed": false
   },
   "outputs": [
    {
     "name": "stderr",
     "output_type": "stream",
     "text": [
      "bash: line 5: graphprot/example_seqs//dummy25.positives.fa: No such file or directory\n",
      "head: write error: Broken pipe\n",
      "head: write error\n",
      "bash: line 9: graphprot/example_seqs/dummy25.negatives.fa: No such file or directory\n"
     ]
    }
   ],
   "source": [
    "%%bash\n",
    "\n",
    "# prepare example sequences, using 25 positives and 25 negatives\n",
    "head -n 50 \\\n",
    "/home/maticzkd/projects/GraphProt/scratch/150526_prepare_gp_update_train_seqs/PARCLIP_QKI.ls.positives.fa \\\n",
    "| head -n 50 > graphprot/example_seqs//dummy25.positives.fa\n",
    "\n",
    "head -n 50 \\\n",
    "/home/maticzkd/projects/GraphProt/scratch/150526_prepare_gp_update_train_seqs/PARCLIP_QKI.ls.negatives.fa \\\n",
    "| head -n 50 > graphprot/example_seqs/dummy25.negatives.fa"
   ]
  },
  {
   "cell_type": "code",
   "execution_count": null,
   "metadata": {
    "collapsed": false
   },
   "outputs": [],
   "source": [
    "%%bash\n",
    "\n",
    "# minimal call graphprot fit\n",
    "time ./graphprot_seqmodel -vv fit \\\n",
    "-b /home/maticzkd/projects/GraphProt/scratch/150526_prepare_gp_update_train_seqs/PARCLIP_QKI.ls.positives.fa \\\n",
    "-u /home/maticzkd/projects/GraphProt/scratch/150526_prepare_gp_update_train_seqs/PARCLIP_QKI.ls.negatives.fa\n"
   ]
  },
  {
   "cell_type": "code",
   "execution_count": 49,
   "metadata": {
    "collapsed": false
   },
   "outputs": [
    {
     "name": "stdout",
     "output_type": "stream",
     "text": [
      "--------------------------------------------------------------------------------\n",
      "Program: graphprot_seqmodel\n",
      "Called with parameters:\n",
      " model_file: out/model\n",
      "negative_input_file: /home/maticzkd/projects/GraphProt/scratch/150526_prepare_gp_update_train_seqs/PARCLIP_QKI.ls.negatives.fa\n",
      "no_logging: False\n",
      "output_dir_path: out\n",
      "positive_input_file: /home/maticzkd/projects/GraphProt/scratch/150526_prepare_gp_update_train_seqs/PARCLIP_QKI.ls.positives.fa\n",
      " verbosity: 2\n",
      "     which: estimate\n",
      "\n",
      "\tModel parameters:\n",
      "\n",
      "Pre_processor:\n",
      "\n",
      "\n",
      "Vectorizer:\n",
      "complexity: 1\n",
      "\n",
      "Estimator:\n",
      "     alpha: 0.1\n",
      "      eta0: 0.01\n",
      "  l1_ratio: 0.427797878621\n",
      "learning_rate: invscaling\n",
      "      loss: perceptron\n",
      "    n_iter: 161\n",
      "    n_jobs: -1\n",
      "   penalty: l2\n",
      "   power_t: 0.146963797207\n",
      "\n",
      "Classifier:\n",
      "SGDClassifier(alpha=0.1, average=True, class_weight='auto', epsilon=0.1,\n",
      "       eta0=0.01, fit_intercept=True, l1_ratio=0.42779787862058416,\n",
      "       learning_rate='invscaling', loss='perceptron', n_iter=161,\n",
      "       n_jobs=-1, penalty='l2', power_t=0.14696379720684935,\n",
      "       random_state=None, shuffle=True, verbose=0, warm_start=False)\n",
      "\n",
      "Data:\n",
      "Instances: 1000 ; Features: 1048577 with an avg of 159 features per instance\n",
      "\n",
      "Predictive performace estimate:\n",
      "             precision    recall  f1-score   support\n",
      "\n",
      "         -1       0.79      0.77      0.78       500\n",
      "          1       0.77      0.80      0.79       500\n",
      "\n",
      "avg / total       0.78      0.78      0.78      1000\n",
      "\n",
      "APR: 0.850\n",
      "ROC: 0.867\n",
      "Elapsed time: 23.5 sec\n"
     ]
    },
    {
     "name": "stderr",
     "output_type": "stream",
     "text": [
      "\n",
      "real\t0m24.378s\n",
      "user\t0m53.990s\n",
      "sys\t0m1.325s\n"
     ]
    }
   ],
   "source": [
    "%%bash\n",
    "\n",
    "# minimal call graphprot estimate\n",
    "time ./graphprot_seqmodel -vv estimate \\\n",
    "-b /home/maticzkd/projects/GraphProt/scratch/150526_prepare_gp_update_train_seqs/PARCLIP_QKI.ls.positives.fa \\\n",
    "-u /home/maticzkd/projects/GraphProt/scratch/150526_prepare_gp_update_train_seqs/PARCLIP_QKI.ls.negatives.fa \\\n",
    "-m out/model"
   ]
  },
  {
   "cell_type": "code",
   "execution_count": 59,
   "metadata": {
    "collapsed": false
   },
   "outputs": [
    {
     "name": "stdout",
     "output_type": "stream",
     "text": [
      "--------------------------------------------------------------------------------\n",
      "Program: graphprot_seqmodel\n",
      "Called with parameters:\n",
      " input_file: /home/maticzkd/projects/GraphProt/scratch/150526_prepare_gp_update_train_seqs/PARCLIP_QKI.ls.positives.fa\n",
      "model_file: out/model\n",
      "no_logging: False\n",
      "output_dir_path: out\n",
      " verbosity: 2\n",
      "     which: predict\n",
      "\n",
      "\tModel parameters:\n",
      "\n",
      "Pre_processor:\n",
      "\n",
      "\n",
      "Vectorizer:\n",
      "complexity: 2\n",
      "\n",
      "Estimator:\n",
      "     alpha: 0.0001\n",
      "      eta0: 0.01\n",
      "  l1_ratio: 0.560086204561\n",
      "learning_rate: constant\n",
      "      loss: hinge\n",
      "    n_iter: 169\n",
      "    n_jobs: -1\n",
      "   penalty: elasticnet\n",
      "   power_t: 0.757853167272\n",
      "Program run failed on Thursday, 11. June 2015 09:51AM\n",
      "Traceback (most recent call last):\n",
      "  File \"/home/maticzkd/co/EDeN-2.0/eden/model_base.py\", line 449, in main_script\n",
      "    main(model_initializer, args)\n",
      "  File \"/home/maticzkd/co/EDeN-2.0/eden/model_base.py\", line 230, in main\n",
      "    main_predict(model_initializer, args)\n",
      "  File \"/home/maticzkd/co/EDeN-2.0/eden/model_base.py\", line 178, in main_predict\n",
      "    predictions = model.decision_function(iterator)\n",
      "  File \"/home/maticzkd/co/EDeN-2.0/eden/model.py\", line 81, in decision_function\n",
      "    X = self._data_matrix(iterable)\n",
      "  File \"/home/maticzkd/co/EDeN-2.0/eden/model.py\", line 310, in _data_matrix\n",
      "    n_jobs=self.pre_processor_n_jobs)\n",
      "  File \"/home/maticzkd/co/EDeN-2.0/eden/util/__init__.py\", line 142, in mp_pre_process\n",
      "    return multiprocess_pre_process(iterable, pre_processor=pre_processor, pre_processor_args=pre_processor_args, n_blocks=n_blocks, block_size=block_size, n_jobs=n_jobs)\n",
      "  File \"/home/maticzkd/co/EDeN-2.0/eden/util/__init__.py\", line 119, in multiprocess_pre_process\n",
      "    iterable = list(iterable)\n",
      "  File \"/home/maticzkd/co/EDeN-2.0/eden/converter/fasta.py\", line 30, in fasta_to_sequence\n",
      "    for line in lines:\n",
      "  File \"/home/maticzkd/co/EDeN-2.0/eden/modifier/fasta.py\", line 25, in fasta_to_fasta\n",
      "    for line in iterable:\n",
      "  File \"/home/maticzkd/co/EDeN-2.0/eden/modifier/fasta.py\", line 38, in _fasta_to_fasta\n",
      "    for line in util.read(input):\n",
      "  File \"/home/maticzkd/co/EDeN-2.0/eden/util/__init__.py\", line 81, in read\n",
      "    f = open(uri)\n",
      "TypeError: coercing to Unicode: need string or buffer, Namespace found\n",
      "Elapsed time: 0.9 sec\n"
     ]
    },
    {
     "name": "stderr",
     "output_type": "stream",
     "text": [
      "\n",
      "real\t0m1.891s\n",
      "user\t0m0.345s\n",
      "sys\t0m0.119s\n"
     ]
    }
   ],
   "source": [
    "%%bash\n",
    "\n",
    "# minimal call graphprot predict\n",
    "time ./graphprot_seqmodel -vv predict \\\n",
    "-i /home/maticzkd/projects/GraphProt/scratch/150526_prepare_gp_update_train_seqs/PARCLIP_QKI.ls.positives.fa \\\n",
    "-m out/model"
   ]
  },
  {
   "cell_type": "code",
   "execution_count": null,
   "metadata": {
    "collapsed": true
   },
   "outputs": [],
   "source": []
  }
 ],
 "metadata": {
  "kernelspec": {
   "display_name": "Python 2",
   "language": "python",
   "name": "python2"
  },
  "language_info": {
   "codemirror_mode": {
    "name": "ipython",
    "version": 2
   },
   "file_extension": ".py",
   "mimetype": "text/x-python",
   "name": "python",
   "nbconvert_exporter": "python",
   "pygments_lexer": "ipython2",
   "version": "2.7.5"
  }
 },
 "nbformat": 4,
 "nbformat_minor": 0
}
