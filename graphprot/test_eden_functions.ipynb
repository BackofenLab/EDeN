{
 "cells": [
  {
   "cell_type": "code",
   "execution_count": 1,
   "metadata": {
    "collapsed": true
   },
   "outputs": [],
   "source": [
    "%matplotlib inline"
   ]
  },
  {
   "cell_type": "code",
   "execution_count": 2,
   "metadata": {
    "collapsed": true
   },
   "outputs": [],
   "source": [
    "# use as example seqs, 500 seqs annotated with center information\n",
    "fa_fn = \"/home/maticzkd/projects/GraphProt/scratch/150526_prepare_gp_update_train_seqs/PARCLIP_QKI.ls.positives.fa\""
   ]
  },
  {
   "cell_type": "code",
   "execution_count": 3,
   "metadata": {
    "collapsed": true
   },
   "outputs": [],
   "source": [
    "def preview_seq(seq_iter):\n",
    "    import itertools as it\n",
    "    start=0 # inclusive, 0-based\n",
    "    stop=2  # exclusive\n",
    "    for header,seq in it.islice(seq_iter, start, stop):\n",
    "        print(header)\n",
    "        print(seq)"
   ]
  },
  {
   "cell_type": "code",
   "execution_count": 4,
   "metadata": {
    "collapsed": false
   },
   "outputs": [
    {
     "name": "stdout",
     "output_type": "stream",
     "text": [
      "True\n",
      "True\n",
      ">CID_002397;chr11,92153775,92153807,+\tcenter:166\n",
      "CCUCUUCUUGUCUCCCACUCAACUUAGUAUCGAGUGGGAUUUCACAUCAAAGUUCUUGUCCUGAAGGAUUCAGCAGUUCCAGAAGACAUGGCAAGAAUCAGCUCUCAGUCAGCUUUUCAACUCCUUGAUGGGGGGGUUAAGAGUAGAGAGAACUAUCCAUCAUAACUAAAUCUUUACUAAUAAUUUAAAUUCUACAGAUUCCAGGACUAUGGCAUCUUGACUCAGUAAAUCUUUCUUGCCUUUCCUUUUUUUAAAACAAGGGAAAAAUAUACAAACAGAUUAAAGUGCACUUACAAACCCAGCUGGCUUGUUUUAAGCUCCCAAAGGAACAC\n",
      ">CID_000206;chr1,40948630,40948662,+\tcenter:166\n",
      "CAUGUGAUGACAGAACUUCAAAAUAAAGCAAAAUUGACAGAACUAAAGAGAGAUAUAGACAAAAUCACAGUAAUUAGAAACUUUAACACUUCUUUCUCAGUAAUUGAUGUAACCAGUAGACAAAAACUCAUCAAGGAUACAGAAGAUUUGAACAACACUAUCAACCAAUUUAACCUAAUUAACACUUACGGAACACUACGUCUAACAACUACAGAACAUAUAUUCUUUUUAAAAAUAGAGAUCUCAUUUUUAAAUGAGAUCUGCGGGUGGGGUGGAAUAAACUGGUGGAUCAACUGGGGGUGGAGUGGAAUACCGUUUAAAAAGGGGCAUGA\n"
     ]
    }
   ],
   "source": [
    "# create a sequence tuple generator\n",
    "from eden.converter.fasta import fasta_to_sequence\n",
    "seq = fasta_to_sequence(fa_fn)\n",
    "preview_seq(seq)"
   ]
  },
  {
   "cell_type": "code",
   "execution_count": 5,
   "metadata": {
    "collapsed": false
   },
   "outputs": [
    {
     "name": "stdout",
     "output_type": "stream",
     "text": [
      "True\n",
      "True\n",
      ">CID_002397;chr11,92153775,92153807,+\tcenter:166\n",
      "CCUCUUCUUGUCUCCCACUCAACUUAGUAUCGAGUGGGAUUUCACAUCAAAGUUCUUGUCCUGAAGGAUUCAGCAGUUCCAGAAGACAUGGCAAGAAUCAGCUCUCAGUCAGCUUUUCAACUCCUUGAUGGGGGGGUUAAGAGUAGAGAGAACUAUCCAUCAUAACUAAAUCUUUACUAAUAAUUUAAAUUCUACAGAUUCCAGGACUAUGGCAUCUUGACUCAGUAAAUCUUUCUUGCCUUUCCUUUUUUUAAAACAAGGGAAAAAUAUACAAACAGAUUAAAGUGCACUUACAAACCCAGCUGGCUUGUUUUAAGCUCCCAAAGGAACAC\n",
      ">CID_000206;chr1,40948630,40948662,+\tcenter:166\n",
      "CAUGUGAUGACAGAACUUCAAAAUAAAGCAAAAUUGACAGAACUAAAGAGAGAUAUAGACAAAAUCACAGUAAUUAGAAACUUUAACACUUCUUUCUCAGUAAUUGAUGUAACCAGUAGACAAAAACUCAUCAAGGAUACAGAAGAUUUGAACAACACUAUCAACCAAUUUAACCUAAUUAACACUUACGGAACACUACGUCUAACAACUACAGAACAUAUAUUCUUUUUAAAAAUAGAGAUCUCAUUUUUAAAUGAGAUCUGCGGGUGGGGUGGAAUAAACUGGUGGAUCAACUGGGGGUGGAGUGGAAUACCGUUUAAAAAGGGGCAUGA\n"
     ]
    }
   ],
   "source": [
    "# create a sequence tuple generator that normalizes the sequences (uppercase, T->U)\n",
    "from eden.converter.fasta import fasta_to_sequence\n",
    "seqopts = {\"normalize\" : True}\n",
    "seq = fasta_to_sequence(fa_fn, opts=seqopts)\n",
    "preview_seq(seq)"
   ]
  },
  {
   "cell_type": "code",
   "execution_count": null,
   "metadata": {
    "collapsed": true
   },
   "outputs": [],
   "source": []
  }
 ],
 "metadata": {
  "kernelspec": {
   "display_name": "Python 2",
   "language": "python",
   "name": "python2"
  },
  "language_info": {
   "codemirror_mode": {
    "name": "ipython",
    "version": 2
   },
   "file_extension": ".py",
   "mimetype": "text/x-python",
   "name": "python",
   "nbconvert_exporter": "python",
   "pygments_lexer": "ipython2",
   "version": "2.7.5"
  }
 },
 "nbformat": 4,
 "nbformat_minor": 0
}
